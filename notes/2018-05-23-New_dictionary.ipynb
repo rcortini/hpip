{
 "cells": [
  {
   "cell_type": "code",
   "execution_count": null,
   "metadata": {},
   "outputs": [],
   "source": [
    "%matplotlib inline\n",
    "%load_ext autoreload\n",
    "%autoreload 2"
   ]
  },
  {
   "cell_type": "code",
   "execution_count": null,
   "metadata": {},
   "outputs": [],
   "source": [
    "import numpy as np\n",
    "import pickle\n",
    "import matplotlib.pyplot as plt\n",
    "import hpiptools as ht"
   ]
  },
  {
   "cell_type": "markdown",
   "metadata": {},
   "source": [
    "# 2018-05-23 New dictionary\n",
    "After a code review with Marc and Guillaume, we realized that there are a lot - too many - collisions in the promoter-barcode association dictionary. That was partly the result of an error, which originated in the fact that any barcode that was already in the dictionary was considered a collision. That cannot be true, because there are twelve different pools of cells that digest the barcodes, so that the same barcode can be found associated to different promoters, which is legitimate as far as they come from different libraries. Here I generated a dictionary that separates the barcode into the libraries from which it came from. Let's see here some statistics about how many barcodes are found in each library, how many collisions there are, and what the collisions look like."
   ]
  },
  {
   "cell_type": "code",
   "execution_count": null,
   "metadata": {},
   "outputs": [],
   "source": [
    "# load the file\n",
    "datadir = '/home/rcortini/work/CRG/projects/hpip/scratch/prom_bcd_dict'\n",
    "prom_dict_fname = '%s/prom_bcd.p'%(datadir)\n",
    "d = pickle.load(open(prom_dict_fname,'rb'))"
   ]
  },
  {
   "cell_type": "code",
   "execution_count": null,
   "metadata": {},
   "outputs": [],
   "source": [
    "# let's count the number of occurrences in each barcode\n",
    "bcd_counts = {}\n",
    "for lib_id in d.iterkeys() :\n",
    "    lib = d[lib_id]\n",
    "    bcd_counts[lib_id] = np.zeros(len(lib),dtype=np.int32)\n",
    "    for i,promoter_list in enumerate(lib.itervalues()) :\n",
    "        bcd_counts[lib_id][i] = len(promoter_list)"
   ]
  },
  {
   "cell_type": "code",
   "execution_count": null,
   "metadata": {},
   "outputs": [],
   "source": [
    "for lib_id,prom_counts in bcd_counts.iteritems() :\n",
    "    fig = plt.figure()\n",
    "    plt.hist(prom_counts)#,nbins=10)\n",
    "    plt.title(\"Library %s\"%(lib_id))\n",
    "    plt.show()"
   ]
  },
  {
   "cell_type": "code",
   "execution_count": null,
   "metadata": {},
   "outputs": [],
   "source": [
    "prom_counts"
   ]
  }
 ],
 "metadata": {
  "kernelspec": {
   "display_name": "Python 2",
   "language": "python",
   "name": "python2"
  },
  "language_info": {
   "codemirror_mode": {
    "name": "ipython",
    "version": 2
   },
   "file_extension": ".py",
   "mimetype": "text/x-python",
   "name": "python",
   "nbconvert_exporter": "python",
   "pygments_lexer": "ipython2"
  }
 },
 "nbformat": 4,
 "nbformat_minor": 2
}
