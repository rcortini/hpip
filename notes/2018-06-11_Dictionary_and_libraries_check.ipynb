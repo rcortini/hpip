{
 "cells": [
  {
   "cell_type": "code",
   "execution_count": null,
   "metadata": {},
   "outputs": [],
   "source": [
    "%matplotlib inline\n",
    "%load_ext autoreload\n",
    "%autoreload 2"
   ]
  },
  {
   "cell_type": "code",
   "execution_count": null,
   "metadata": {},
   "outputs": [],
   "source": [
    "from __future__ import division\n",
    "import numpy as np\n",
    "import matplotlib.pyplot as plt\n",
    "import mybiotools as mbt\n",
    "from scipy.stats import gaussian_kde\n",
    "import os, sys\n",
    "import gzip"
   ]
  },
  {
   "cell_type": "markdown",
   "metadata": {},
   "source": [
    "# 2018-06-11 Dictionary and libraries check\n",
    "I finished the scripts to generate the new dictionary. Now let's have a look at some statistics of that dictionary. The next step will be to go again to the re-processed libraries, and redo the analysis of how sane they are.\n",
    "\n",
    "## Dictionary statistics\n",
    "Let's first load the dictionary, which now contains much richer information on how that particular barcode is found."
   ]
  },
  {
   "cell_type": "code",
   "execution_count": null,
   "metadata": {},
   "outputs": [],
   "source": [
    "# STEP 3 : create a parser for the output file\n",
    "def parse_prom_bcd_dict(prom_bcd_fname) :\n",
    "    d = {}\n",
    "    with open(prom_bcd_fname,'r') as f :\n",
    "        for lineno,line in enumerate(f) :\n",
    "            bcd,all_candidates = line.strip().split('\\t')\n",
    "            d_bcd = {}\n",
    "            for candidates in all_candidates.split(';') :\n",
    "                for candidate in candidates.split(',') :\n",
    "                    prom_name,p = candidate.split(':')\n",
    "                    d_bcd[prom_name] = p\n",
    "            d[bcd] = d_bcd\n",
    "    return d"
   ]
  },
  {
   "cell_type": "code",
   "execution_count": null,
   "metadata": {},
   "outputs": [],
   "source": [
    "def prom_id(prom_name) :\n",
    "    return prom_name[:1],prom_name[1:]"
   ]
  },
  {
   "cell_type": "code",
   "execution_count": null,
   "metadata": {},
   "outputs": [],
   "source": [
    "pbd_fname = '%s/work/CRG/projects/hpip/data/pbd/pbd.txt'%(os.getenv('HOME'))\n",
    "pbd = parse_prom_bcd_dict(pbd_fname)"
   ]
  },
  {
   "cell_type": "code",
   "execution_count": null,
   "metadata": {},
   "outputs": [],
   "source": [
    "# let's check how much space that dictionary occupies in my memory\n",
    "Mb = 2**20\n",
    "sys.getsizeof(pbd)/Mb"
   ]
  },
  {
   "cell_type": "markdown",
   "metadata": {},
   "source": [
    "Three gigabytes. Which is comparable to the size of the file that contains the dictionary. However, the memory footprint of the kernel shows roughly ten times more memory occupied now."
   ]
  },
  {
   "cell_type": "code",
   "execution_count": null,
   "metadata": {},
   "outputs": [],
   "source": [
    "print \"Total: %d barcodes\"%(len(pbd))\n",
    "max_collisions = 96\n",
    "coll_hist = np.zeros(max_collisions,dtype=np.int32)\n",
    "for prom_list in pbd.itervalues() :\n",
    "    nproms = len(prom_list)\n",
    "    coll_hist[nproms] += 1"
   ]
  },
  {
   "cell_type": "code",
   "execution_count": null,
   "metadata": {},
   "outputs": [],
   "source": [
    "plt_max = 10\n",
    "plt.bar(np.arange(max_collisions)[:plt_max],coll_hist[:plt_max]/coll_hist.sum())\n",
    "plt.xticks(np.arange(1,plt_max))\n",
    "plt.xlim(0.5,plt_max+0.5)\n",
    "plt.xlabel('Number of collisions')\n",
    "plt.ylabel('Percentage')"
   ]
  },
  {
   "cell_type": "markdown",
   "metadata": {},
   "source": [
    "Let's also have a look at another thing: for all the barcodes that collide, what are the most frequent collisions?"
   ]
  },
  {
   "cell_type": "code",
   "execution_count": null,
   "metadata": {},
   "outputs": [],
   "source": [
    "# prepare a promoter-to-index mapping\n",
    "libs = range(1,13)\n",
    "prom_class_idx = {'A':0,'B':1,'C':2,'D':3,\n",
    "              'E':4,'F':5,'G':6,'H':7}\n",
    "prom_lib_idx = {lib : lib-1 for lib in libs}\n",
    "prom_idx = {}\n",
    "idx_prom = {}\n",
    "for prom_class,prom_class_id in prom_class_idx.iteritems() :\n",
    "    for prom_lib,prom_lib_id in prom_lib_idx.iteritems() :\n",
    "        prom_name = '%s%d'%(prom_class,prom_lib)\n",
    "        prom_idx[prom_name] = prom_class_id*12 + prom_lib_id\n",
    "        idx_prom[prom_class_id*12 + prom_lib_id] = prom_name"
   ]
  },
  {
   "cell_type": "code",
   "execution_count": null,
   "metadata": {},
   "outputs": [],
   "source": [
    "collision_matrix = np.zeros((96,96),dtype=np.int32)\n",
    "for prom_list in pbd.itervalues() :\n",
    "    nproms = len(prom_list)\n",
    "    if nproms > 1 :\n",
    "        proms = prom_list.keys()\n",
    "        for i, prom1 in enumerate(proms) :\n",
    "            for j, prom2 in enumerate(proms[i+1:]) :\n",
    "                collision_matrix[\n",
    "                    prom_idx[prom1],\n",
    "                    prom_idx[prom2]\n",
    "                ] += 1\n",
    "                collision_matrix[\n",
    "                    prom_idx[prom2],\n",
    "                    prom_idx[prom1]\n",
    "                ] += 1"
   ]
  },
  {
   "cell_type": "code",
   "execution_count": null,
   "metadata": {},
   "outputs": [],
   "source": [
    "print prom_idx.values()[::12]"
   ]
  },
  {
   "cell_type": "code",
   "execution_count": null,
   "metadata": {},
   "outputs": [],
   "source": [
    "fig,ax = plt.subplots(1,1,figsize=(10,10))\n",
    "ax.matshow(np.log(collision_matrix+1))\n",
    "vals = np.arange(0,96,12)\n",
    "ticks = [idx_prom[v] for v in vals]\n",
    "plt.xticks(vals,ticks)\n",
    "plt.yticks(vals,ticks)\n",
    "plt.show()"
   ]
  },
  {
   "cell_type": "markdown",
   "metadata": {},
   "source": [
    "One has to admit that this is an awesome collision pattern. Of course this is not random and there is something strange going on. Now I group the promoters by class and look at the collisions by class."
   ]
  },
  {
   "cell_type": "code",
   "execution_count": null,
   "metadata": {},
   "outputs": [],
   "source": [
    "collisions_by_class = np.zeros((8,8),dtype=np.int32)\n",
    "for i in xrange(8) :\n",
    "    for j in xrange(i, 8) :\n",
    "        I = i*12\n",
    "        J = j*12\n",
    "        s = collision_matrix[I:I+12,J:J+12].sum()\n",
    "        collisions_by_class[i,j] = s\n",
    "        collisions_by_class[j,i] = s\n",
    "    collisions_by_class[i,i] /= 2.0"
   ]
  },
  {
   "cell_type": "code",
   "execution_count": null,
   "metadata": {},
   "outputs": [],
   "source": [
    "fig, ax = plt.subplots(1, 1, figsize=(8,8))\n",
    "cax = ax.matshow(np.log(collisions_by_class))\n",
    "plt.colorbar(cax)\n",
    "plt.xticks(range(8),prom_class_idx.keys())\n",
    "plt.yticks(range(8),prom_class_idx.keys())\n",
    "plt.show()"
   ]
  },
  {
   "cell_type": "code",
   "execution_count": null,
   "metadata": {},
   "outputs": [],
   "source": [
    "collisions_by_lib = np.zeros((12,12),dtype=np.int32)\n",
    "for i in xrange(12) :\n",
    "    for j in xrange(i, 12) :\n",
    "        s = 0\n",
    "        for k in xrange(8) :\n",
    "            for m in xrange(k,8) :\n",
    "                # print '%s %s'%(idx_prom[i+k*12],idx_prom[j+m*12])\n",
    "                s += collision_matrix[i+k*12,j+m*12]\n",
    "        collisions_by_lib[i,j] = s\n",
    "        collisions_by_lib[j,i] = s"
   ]
  },
  {
   "cell_type": "code",
   "execution_count": null,
   "metadata": {},
   "outputs": [],
   "source": [
    "fig, ax = plt.subplots(1, 1, figsize=(8,8))\n",
    "cax = ax.matshow(np.log(collisions_by_lib+1))\n",
    "plt.colorbar(cax)\n",
    "plt.xticks(range(12),prom_lib_idx.keys())\n",
    "plt.yticks(range(12),prom_lib_idx.keys())\n",
    "plt.show()"
   ]
  },
  {
   "cell_type": "markdown",
   "metadata": {},
   "source": [
    "I want to zoom into the big pattern of collisions."
   ]
  },
  {
   "cell_type": "code",
   "execution_count": null,
   "metadata": {},
   "outputs": [],
   "source": [
    "class_i = 'C'\n",
    "class_j = 'F'\n",
    "I = prom_class_idx[class_i]*12\n",
    "J = prom_class_idx[class_j]*12\n",
    "fig, ax = plt.subplots(1, 1, figsize=(8,8))\n",
    "ax.matshow(np.log(collision_matrix[I:I+12,J:J+12]+1))\n",
    "plt.yticks(range(12),['%s%d'%(class_i,i+1) for i in range(12)])\n",
    "plt.xticks(range(12),['%s%d'%(class_j,i+1) for i in range(12)])\n",
    "plt.show()"
   ]
  },
  {
   "cell_type": "markdown",
   "metadata": {},
   "source": [
    "## Library sanity check (again)"
   ]
  },
  {
   "cell_type": "code",
   "execution_count": null,
   "metadata": {},
   "outputs": [],
   "source": [
    "# generate library file names\n",
    "def bcd_lib_assignment(rep,pbd) :\n",
    "    mc_datadir = '/mnt/ant-login/mcorrales/HPIP/iPCR/HPIP_iPCR_%s/Data/Intensities/BaseCalls'%(rep)\n",
    "    libs = range(1,13)\n",
    "    prom_bcd_counts = np.zeros((12,12,8),dtype=np.int32)\n",
    "    prom_class_idx = {'A':0,'B':1,'C':2,'D':3,\n",
    "                  'E':4,'F':5,'G':6,'H':7}\n",
    "    prom_lib_idx = {lib : lib-1 for lib in libs}\n",
    "    for lib in libs :\n",
    "        mbt.log_message(rep,'Parsing library %d'%lib)\n",
    "        iPCR_fname = '%s/iPCR%d_S%d_R1_001.fastq.gz'%(mc_datadir,lib,lib-1)\n",
    "        # skip library 1, basically\n",
    "        if not os.path.exists(iPCR_fname) : continue\n",
    "        # open file\n",
    "        with gzip.open(iPCR_fname) as f :\n",
    "            lineno = 0\n",
    "            for line in f :\n",
    "                lineno+=1\n",
    "                # get only the sequence of the read\n",
    "                if lineno%4 != 2 :\n",
    "                    continue\n",
    "                # get barcode\n",
    "                bcd = line[:20]\n",
    "                if pbd.has_key(bcd) :\n",
    "                    # the barcode exists in the dictionary: fetch the list\n",
    "                    # of candidate promoters\n",
    "                    prom_list = pbd[bcd]\n",
    "                    for prom in prom_list.iterkeys() :\n",
    "                        prom_class,prom_lib = prom_id(prom)\n",
    "                        prom_bcd_counts[\n",
    "                            lib-1,\n",
    "                            prom_lib_idx[int(prom_lib)],\n",
    "                            prom_class_idx[prom_class]\n",
    "                        ] += 1\n",
    "    return prom_bcd_counts"
   ]
  },
  {
   "cell_type": "code",
   "execution_count": null,
   "metadata": {},
   "outputs": [],
   "source": [
    "reps = ['rep1','rep2']\n",
    "bcd_lib = {}\n",
    "for rep in reps :\n",
    "    bcd_lib[rep] = bcd_lib_assignment(rep,pbd)"
   ]
  },
  {
   "cell_type": "code",
   "execution_count": null,
   "metadata": {},
   "outputs": [],
   "source": [
    "reps = ['rep1','rep2']\n",
    "counts_mat = {}\n",
    "for rep in reps :\n",
    "    counts_mat[rep] = mbt.row_normalize_matrix(bcd_lib[rep].sum(axis=2).astype(float))"
   ]
  },
  {
   "cell_type": "code",
   "execution_count": null,
   "metadata": {},
   "outputs": [],
   "source": [
    "for rep in reps :\n",
    "    fig,ax = plt.subplots(1,1,figsize=(8,8))\n",
    "    cax = ax.matshow(counts_mat[rep],cmap=plt.cm.Greens)\n",
    "    cbar = plt.colorbar(cax)\n",
    "    plt.xticks(range(12),[str(i+1) for i in range(12)])\n",
    "    plt.yticks(range(12),[str(i+1) for i in range(12)])\n",
    "    plt.xlabel('Barcode library assignment',fontsize=32)\n",
    "    ax.xaxis.set_label_position('top')\n",
    "    plt.ylabel('Library origin',fontsize=32)\n",
    "    cbar.set_label('Frequency')\n",
    "    plt.show()"
   ]
  },
  {
   "cell_type": "markdown",
   "metadata": {},
   "source": [
    "Now, these are the results if we look at the non-starcoded iPCR files. What happens if we have a look at the starcoded ones?"
   ]
  },
  {
   "cell_type": "code",
   "execution_count": null,
   "metadata": {},
   "outputs": [],
   "source": [
    "def canonical_bcd_counts(rep,pbd) :\n",
    "    datadir = '%s/work/CRG/projects/hpip/data'%(os.getenv('HOME'))\n",
    "    libs = range(1,13)\n",
    "    cbc = np.zeros((12,12,8),dtype=np.int32)\n",
    "    prom_class_idx = {'A':0,'B':1,'C':2,'D':3,\n",
    "                  'E':4,'F':5,'G':6,'H':7}\n",
    "    prom_lib_idx = {lib : lib-1 for lib in libs}\n",
    "    for lib in libs :\n",
    "        starcode_iPCR_fname = '%s/%s/lib%d/iPCR-starcode.txt'%(datadir,rep,lib)\n",
    "        d = {}\n",
    "        if not os.path.exists(starcode_iPCR_fname) :\n",
    "            mbt.warn_message('canonical',\"Skipping %s\"%(starcode_iPCR_fname))\n",
    "            continue\n",
    "        with open(starcode_iPCR_fname,'r') as f :\n",
    "            mbt.log_message('canonical','Parsing lib %d'%lib)\n",
    "            for lineno,line in enumerate(f) :\n",
    "                canonical,_,bcd_list_raw = line.strip('\\n').split()\n",
    "                bcd_list = bcd_list_raw.split(',')\n",
    "                # if lineno > 10 : break\n",
    "                if pbd.has_key(canonical) :\n",
    "                    prom_list = pbd[canonical]\n",
    "                    for prom in prom_list.iterkeys() :\n",
    "                        prom_class,prom_lib = prom_id(prom)\n",
    "                        cbc[\n",
    "                            lib-1,\n",
    "                            prom_lib_idx[int(prom_lib)],\n",
    "                            prom_class_idx[prom_class]\n",
    "                        ] += 1\n",
    "    return cbc"
   ]
  },
  {
   "cell_type": "code",
   "execution_count": null,
   "metadata": {},
   "outputs": [],
   "source": [
    "ccm = {}\n",
    "cbc = {}\n",
    "for rep in reps :\n",
    "    cbc[rep] = canonical_bcd_counts(rep,pbd)\n",
    "    ccm[rep] = mbt.row_normalize_matrix(cbc[rep].sum(axis=2).astype(float))"
   ]
  },
  {
   "cell_type": "code",
   "execution_count": null,
   "metadata": {},
   "outputs": [],
   "source": [
    "for rep in reps :\n",
    "    fig,ax = plt.subplots(1,1,figsize=(8,8))\n",
    "    cax = ax.matshow(ccm[rep],cmap=plt.cm.Greens)\n",
    "    cbar = plt.colorbar(cax)\n",
    "    plt.xticks(range(12),[str(i+1) for i in range(12)])\n",
    "    plt.yticks(range(12),[str(i+1) for i in range(12)])\n",
    "    plt.xlabel('Barcode library assignment',fontsize=32)\n",
    "    ax.xaxis.set_label_position('top')\n",
    "    plt.ylabel('Library origin',fontsize=32)\n",
    "    cbar.set_label('Frequency')\n",
    "    plt.show()"
   ]
  }
 ],
 "metadata": {
  "kernelspec": {
   "display_name": "Python 2",
   "language": "python",
   "name": "python2"
  },
  "language_info": {
   "codemirror_mode": {
    "name": "ipython",
    "version": 2
   },
   "file_extension": ".py",
   "mimetype": "text/x-python",
   "name": "python",
   "nbconvert_exporter": "python",
   "pygments_lexer": "ipython2"
  }
 },
 "nbformat": 4,
 "nbformat_minor": 2
}
