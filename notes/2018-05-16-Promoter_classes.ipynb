{
 "cells": [
  {
   "cell_type": "code",
   "execution_count": null,
   "metadata": {},
   "outputs": [],
   "source": [
    "%matplotlib inline\n",
    "%load_ext autoreload\n",
    "%autoreload 2"
   ]
  },
  {
   "cell_type": "code",
   "execution_count": null,
   "metadata": {},
   "outputs": [],
   "source": [
    "import numpy as np\n",
    "import matplotlib.pyplot as plt\n",
    "import os\n",
    "import hpiptools as ht"
   ]
  },
  {
   "cell_type": "markdown",
   "metadata": {},
   "source": [
    "# 2018-05-16 Promoter classes\n",
    "Let's now return to the question of the analysis of each of the promoters. Now we have a file that is much more manageable to look at specific questions."
   ]
  },
  {
   "cell_type": "code",
   "execution_count": null,
   "metadata": {},
   "outputs": [],
   "source": [
    "# load the manegeable file\n",
    "hpip_root_dir = '%s/work/CRG/projects/hpip'%(os.getenv('HOME'))\n",
    "production_dir = '%s/production'%(hpip_root_dir)\n",
    "results_fname = '%s/HPIP_results.npy'%(production_dir)\n",
    "results = np.load(results_fname)"
   ]
  },
  {
   "cell_type": "code",
   "execution_count": null,
   "metadata": {},
   "outputs": [],
   "source": [
    "def promoter_id(insertion) :\n",
    "    return insertion['promoter']/ht.nclasses+1,insertion['promoter']%ht.nclasses"
   ]
  },
  {
   "cell_type": "code",
   "execution_count": null,
   "metadata": {},
   "outputs": [],
   "source": [
    "# prepare an array to look at whether there are more or less insertions per promoter\n",
    "promoter_counts = np.zeros((ht.nclasses,ht.nclasses),dtype=int)\n",
    "for insertion in results :\n",
    "    (i,j) = promoter_id(insertion)\n",
    "    promoter_counts[i,j] += 1"
   ]
  },
  {
   "cell_type": "code",
   "execution_count": null,
   "metadata": {},
   "outputs": [],
   "source": [
    "# let's plot\n",
    "fig,ax = plt.subplots(1,1,figsize=(8,8))\n",
    "cax = ax.matshow(np.log2(1+promoter_counts))\n",
    "axmap = plt.colorbar(cax)\n",
    "classes = range(1,ht.nclasses+1)\n",
    "plt.xticks(range(ht.nclasses),classes)\n",
    "plt.yticks(range(ht.nclasses),classes)\n",
    "plt.xlabel('Promoter number')\n",
    "plt.ylabel('Promoter class')\n",
    "axmap.set_label('Log_2 # counts')\n",
    "plt.show()"
   ]
  },
  {
   "cell_type": "markdown",
   "metadata": {},
   "source": [
    "Now let's plot the expression as a function of the promoter."
   ]
  },
  {
   "cell_type": "code",
   "execution_count": null,
   "metadata": {},
   "outputs": [],
   "source": [
    "promoters = {}\n",
    "for i in xrange(ht.nclasses) :\n",
    "    for j in xrange(ht.nclasses) :\n",
    "        promoters[i*ht.nclasses+j+1] = []\n",
    "for insertion in results :\n",
    "    expression = insertion['expression']\n",
    "    if not np.isnan(expression) :\n",
    "        promoters[insertion['promoter']].append(insertion)\n",
    "for key,prom_list in promoters.iteritems() :\n",
    "    promoters[key] = np.asarray(prom_list)"
   ]
  },
  {
   "cell_type": "code",
   "execution_count": null,
   "metadata": {},
   "outputs": [],
   "source": [
    "promoters[2]"
   ]
  },
  {
   "cell_type": "code",
   "execution_count": null,
   "metadata": {},
   "outputs": [],
   "source": [
    "promoter_mean_expression = np.zeros((ht.nclasses,ht.nclasses))\n",
    "for i in xrange(ht.nclasses) :\n",
    "    for j in xrange(ht.nclasses) :\n",
    "        exp = promoters[i*ht.nclasses+j+1]\n",
    "        if exp.size != 0 :\n",
    "            promoter_mean_expression[i,j] = exp['expression'].mean()"
   ]
  },
  {
   "cell_type": "code",
   "execution_count": null,
   "metadata": {},
   "outputs": [],
   "source": [
    "# let's plot\n",
    "fig,ax = plt.subplots(1,1,figsize=(8,8))\n",
    "cax = ax.matshow(promoter_mean_expression)\n",
    "axmap = plt.colorbar(cax)\n",
    "classes = range(1,ht.nclasses+1)\n",
    "plt.xticks(range(ht.nclasses),classes)\n",
    "plt.yticks(range(ht.nclasses),classes)\n",
    "plt.xlabel('Promoter number')\n",
    "plt.ylabel('Promoter class')\n",
    "axmap.set_label('Promoter average expression')\n",
    "plt.show()"
   ]
  }
 ],
 "metadata": {
  "kernelspec": {
   "display_name": "Python 2",
   "language": "python",
   "name": "python2"
  },
  "language_info": {
   "codemirror_mode": {
    "name": "ipython",
    "version": 2
   },
   "file_extension": ".py",
   "mimetype": "text/x-python",
   "name": "python",
   "nbconvert_exporter": "python",
   "pygments_lexer": "ipython2"
  }
 },
 "nbformat": 4,
 "nbformat_minor": 2
}
