{
 "cells": [
  {
   "cell_type": "code",
   "execution_count": null,
   "metadata": {},
   "outputs": [],
   "source": [
    "%matplotlib inline\n",
    "%load_ext autoreload\n",
    "%autoreload 2"
   ]
  },
  {
   "cell_type": "code",
   "execution_count": null,
   "metadata": {},
   "outputs": [],
   "source": [
    "import numpy as np\n",
    "import matplotlib.pyplot as plt\n",
    "import os\n",
    "import hpiplib"
   ]
  },
  {
   "cell_type": "markdown",
   "metadata": {},
   "source": [
    "# 2018-05-14 Preliminary analysis\n",
    "\n",
    "Once the pipeline of the HPIP experiments finally works, we can start performing some analysis on its results. In this notebook I want to start setting up the variables, functions, and data structures that will allow me to perform statistical analysis of the results in a smooth and meaningful way. As usual, I will use this tool as a scratch book to test functions and all the rest. Once I'm happy with how things look, I'll migrate the results into a convenient Python library, which I will then hopefully be able to use later."
   ]
  },
  {
   "cell_type": "code",
   "execution_count": null,
   "metadata": {},
   "outputs": [],
   "source": [
    "# I start with defining file names and paths\n",
    "hpip_root_dir = '%s/work/CRG/projects/hpip'%(os.getenv('HOME'))\n",
    "production_dir = '%s/production'%(hpip_root_dir)\n",
    "tests_dir = '%s/tests'%(hpip_root_dir)\n",
    "rep_names = ['rep1','rep2']\n",
    "rep_fnames = {}\n",
    "for rep_name in rep_names :\n",
    "    rep_fname = '%s/%s/HPIP_iPCR_%s_insertions.txt'%(production_dir,rep_name,rep_name)\n",
    "    rep_fnames[rep_name] = rep_fname\n",
    "    if os.path.exists(rep_fname) :\n",
    "        print rep_fname"
   ]
  },
  {
   "cell_type": "markdown",
   "metadata": {},
   "source": [
    "Now it's time to parse! I'll see if I can use the good old parser for the TRIP results."
   ]
  },
  {
   "cell_type": "code",
   "execution_count": null,
   "metadata": {},
   "outputs": [],
   "source": [
    "# load the reporter data\n",
    "def load_hpip_results(fname) :\n",
    "    hpip_dtype = [\n",
    "        ('barcode','S32'),\n",
    "        ('chr','S32'),\n",
    "        ('strand','S2'),\n",
    "        ('coord',np.int32),\n",
    "        ('mRNA',np.int32),\n",
    "        ('promoter','S32'),\n",
    "        ('cDNA',np.int32),\n",
    "        ('gDNA',np.int32)\n",
    "    ]\n",
    "    return np.genfromtxt(fname, dtype=np.dtype(hpip_dtype))"
   ]
  },
  {
   "cell_type": "markdown",
   "metadata": {},
   "source": [
    "I'll test this function with a small file so that I can debug easily."
   ]
  },
  {
   "cell_type": "code",
   "execution_count": null,
   "metadata": {},
   "outputs": [],
   "source": [
    "toy_insertions_fname = '%s/pipeline_with_make/Toy_iPCR_rep1_insertions.txt'%(tests_dir)\n",
    "toy = load_hpip_results(toy_insertions_fname)"
   ]
  },
  {
   "cell_type": "code",
   "execution_count": null,
   "metadata": {},
   "outputs": [],
   "source": [
    "toy"
   ]
  },
  {
   "cell_type": "markdown",
   "metadata": {},
   "source": [
    "Okay, this function works. Now I can get the data for the real experiments, the two replicates. \n",
    "\n",
    "## Data structures\n",
    "\n",
    "It is useful at this point to get the data into nice structure."
   ]
  },
  {
   "cell_type": "code",
   "execution_count": null,
   "metadata": {},
   "outputs": [],
   "source": [
    "class HPIPReplicate :\n",
    "    def __init__(self,name,\n",
    "                 hpip_root_dir = '%s/work/CRG/projects/hpip'%(os.getenv('HOME'))) :\n",
    "        self.name = name\n",
    "        production_dir = '%s/production'%(hpip_root_dir)\n",
    "        fname = '%s/%s/HPIP_iPCR_%s_insertions.txt'%(production_dir,name,name)\n",
    "        if os.path.exists(rep_fname) :\n",
    "            self.data = load_hpip_results(fname)"
   ]
  },
  {
   "cell_type": "code",
   "execution_count": null,
   "metadata": {},
   "outputs": [],
   "source": [
    "rep_names = ['rep1','rep2']\n",
    "reps = []\n",
    "for rep_name in rep_names :\n",
    "    reps.append(HPIPReplicate(rep_name))"
   ]
  },
  {
   "cell_type": "code",
   "execution_count": null,
   "metadata": {},
   "outputs": [],
   "source": [
    "class HPIPMatrix :\n",
    "    def __init__(self,dtype=np.int32) :\n",
    "        self.rows = ['A','B','C','D','E','F','G','H']\n",
    "        self.columns = range(1,13)\n",
    "        self.libraries = ['Promoter%s%d'%(l,n)\n",
    "                    for l in self.rows\n",
    "                    for n in self.columns]\n",
    "        self.M = np.zeros((len(self.rows),len(self.columns)),dtype=dtype)\n",
    "        self.C = np.zeros(1,dtype=dtype)\n",
    "        # internal lightweight dictionary to map names of promoters to matrix\n",
    "        # elements\n",
    "        self._prom_to_idx = {}\n",
    "        for i,row in enumerate(self.rows) :\n",
    "            for j,column in enumerate(self.columns) :\n",
    "                self._prom_to_idx['Promoter%s%d'%(row,column)] = (i,j)\n",
    "    def map_name_to_idx(self,name) :\n",
    "        return self._prom_to_idx[name]\n",
    "    def __getitem__(self,name) :\n",
    "        if name == 'Colision' :\n",
    "            return self.C\n",
    "        try :\n",
    "            return self.M[self.map_name_to_idx(name)]\n",
    "        except KeyError :\n",
    "            print \"Error: %s does not exist\"%(name)\n",
    "    def __setitem__(self,name,val) :\n",
    "        if name == 'Colision' :\n",
    "            self.C = val\n",
    "        else :\n",
    "            try :\n",
    "                self.M[self.map_name_to_idx(name)] = val\n",
    "            except KeyError :\n",
    "                print \"Error: %s does not exist\"%(name)"
   ]
  },
  {
   "cell_type": "markdown",
   "metadata": {},
   "source": [
    "## Analysis: the basics\n",
    "\n",
    "### How many integrations?"
   ]
  },
  {
   "cell_type": "code",
   "execution_count": null,
   "metadata": {},
   "outputs": [],
   "source": [
    "# get the number of integrations per replicate\n",
    "for rep in reps :\n",
    "    print '%s : %d integrations'%(rep.name,rep.data.size)"
   ]
  },
  {
   "cell_type": "markdown",
   "metadata": {},
   "source": [
    "### How many promoters were found in each replicate?"
   ]
  },
  {
   "cell_type": "code",
   "execution_count": null,
   "metadata": {},
   "outputs": [],
   "source": [
    "# get the promoters that were found in that replicate\n",
    "for rep in reps :\n",
    "    rep.promoters = np.unique(rep.data['promoter'])\n",
    "    \n",
    "# do the two sets coincide?\n",
    "for p in reps[0].promoters :\n",
    "    if p not in reps[1].promoters :\n",
    "        print \"%s not found in replicate 2\"%(p)\n",
    "        \n",
    "# do the two sets coincide?\n",
    "for p in reps[1].promoters :\n",
    "    if p not in reps[0].promoters :\n",
    "        print \"%s not found in replicate 1\"%(p)"
   ]
  },
  {
   "cell_type": "markdown",
   "metadata": {},
   "source": [
    "Okay this stuff needs to be cleared with Marc.\n",
    "\n",
    "### How many collisions?"
   ]
  },
  {
   "cell_type": "code",
   "execution_count": null,
   "metadata": {},
   "outputs": [],
   "source": [
    "for rep in reps :\n",
    "    rep.collisions = rep.data[rep.data['promoter']=='Colision']\n",
    "    print '%s : %d collisions (%.2f%%)'%(rep.name,rep.collisions.size,\n",
    "                                rep.collisions.size/float(rep.data.size)*100)"
   ]
  },
  {
   "cell_type": "markdown",
   "metadata": {},
   "source": [
    "### How many integrations per promoter?"
   ]
  },
  {
   "cell_type": "code",
   "execution_count": null,
   "metadata": {},
   "outputs": [],
   "source": [
    "# filter out the \"good\" integrations, that is, the barcodes not identified as collisions\n",
    "for rep in reps :\n",
    "    rep.integrations = rep.data[rep.data['promoter']!='Colision']"
   ]
  },
  {
   "cell_type": "code",
   "execution_count": null,
   "metadata": {},
   "outputs": [],
   "source": [
    "# for each of the replicates, fill in the matrix of how many integrations corresponding to\n",
    "# each promoter we have and plot\n",
    "for rep in reps :\n",
    "    rep.promoter_counts = HPIPMatrix()\n",
    "    for promoter in rep.promoters :\n",
    "        p = rep.integrations[rep.integrations['promoter']==promoter]\n",
    "        rep.promoter_counts[promoter] = p.size\n",
    "    cax = plt.matshow(np.log2(1+rep.promoter_counts.M),cmap=plt.cm.Greens)\n",
    "    plt.colorbar(cax)\n",
    "    plt.xticks(range(len(rep.promoter_counts.columns)),rep.promoter_counts.columns)\n",
    "    plt.yticks(range(len(rep.promoter_counts.rows)),rep.promoter_counts.rows)\n",
    "    plt.title(rep.name,fontsize=32,y=1.1)"
   ]
  },
  {
   "cell_type": "markdown",
   "metadata": {},
   "source": [
    "We see that there is quite a clear pattern in the sense that there are two experiments (labelled 1 and 6) that worked worse than the others. Experiments 7 and 8 seem to be much better."
   ]
  },
  {
   "cell_type": "code",
   "execution_count": null,
   "metadata": {},
   "outputs": [],
   "source": [
    "for rep in reps :\n",
    "    plt.bar(rep.promoter_counts.columns,rep.promoter_counts.M.sum(axis=0))\n",
    "    plt.xlabel('TRIP experiment')\n",
    "    plt.ylabel('Integration counts')\n",
    "    plt.title(rep.name,fontsize=32)\n",
    "    plt.xticks(range(1,len(rep.promoter_counts.columns)+1))\n",
    "    plt.show()"
   ]
  }
 ],
 "metadata": {
  "kernelspec": {
   "display_name": "Python 2",
   "language": "python",
   "name": "python2"
  },
  "language_info": {
   "codemirror_mode": {
    "name": "ipython",
    "version": 2
   },
   "file_extension": ".py",
   "mimetype": "text/x-python",
   "name": "python",
   "nbconvert_exporter": "python",
   "pygments_lexer": "ipython2"
  }
 },
 "nbformat": 4,
 "nbformat_minor": 2
}
