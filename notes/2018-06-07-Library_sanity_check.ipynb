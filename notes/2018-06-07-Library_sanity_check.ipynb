{
 "cells": [
  {
   "cell_type": "code",
   "execution_count": null,
   "metadata": {},
   "outputs": [],
   "source": [
    "%matplotlib inline\n",
    "%load_ext autoreload\n",
    "%autoreload 2"
   ]
  },
  {
   "cell_type": "code",
   "execution_count": null,
   "metadata": {},
   "outputs": [],
   "source": [
    "import numpy as np\n",
    "import matplotlib.pyplot as plt\n",
    "import mybiotools as mbt\n",
    "import pickle\n",
    "import re\n",
    "import gzip\n",
    "import os"
   ]
  },
  {
   "cell_type": "markdown",
   "metadata": {},
   "source": [
    "# 2018-06-06 Library sanity check\n",
    "I reran the `bcl2fastq` program with a new sample sheet, created starting from a number-of-count analysis of how many times a given index is found in the reads. Now I want to see whether associating a given read to a given library using this way in this way actually gave a sensible result. The first thing is to load the newly processed barcode-promoter association dictionary. Reminder: in this new version, all the candidate promoters are given. If the read-library association was done correctly, I should observe that for any given read there is a clear winner, which corresponds to the library itself."
   ]
  },
  {
   "cell_type": "code",
   "execution_count": null,
   "metadata": {},
   "outputs": [],
   "source": [
    "# load new dictionary\n",
    "prom_bcd_d_fname = '/home/rcortini/work/CRG/projects/hpip/scratch/prom_bcd_dict/prom_bcd_d.p'\n",
    "prom_bcd_d = pickle.load(open(prom_bcd_d_fname,'rb'))"
   ]
  },
  {
   "cell_type": "code",
   "execution_count": null,
   "metadata": {},
   "outputs": [],
   "source": [
    "datadir = '/mnt/ant-login/mcorrales/HPIP/libraries'\n",
    "\n",
    "# Lets generate a dictionary uniquely associating barcode-promoters\n",
    "data_path = datadir + \"/Starcoded_proms/\"\n",
    "fn_re = re.compile(r\"Promoter[A-H][0-9][0-9]?-starcoded.txt\")\n",
    "starcodedfn = [fname for fname in os.listdir(data_path) if\n",
    "               fn_re.match(fname)]\n",
    "\n",
    "# library IDs: init the barcodes dictionary\n",
    "libs = [i for i in range(1,13)]\n",
    "barcodesd = dict()\n",
    "for lib in libs :\n",
    "    barcodesd[lib] = {}\n",
    "\n",
    "for fname in starcodedfn:\n",
    "    promname = fname.split(\"-\")[0]\n",
    "    prom_lib_id = int(promname.split('Promoter')[1][1:])\n",
    "    mbt.log_message('create_dict',\"Processing %s\"%(fname))\n",
    "    with open(data_path + fname) as f:\n",
    "        for line in f:\n",
    "            bcd = line.split()[0]\n",
    "            # Barcodes cannot be duplicated\n",
    "            if bcd in barcodesd[prom_lib_id]:\n",
    "                barcodesd[prom_lib_id][bcd].append(promname)\n",
    "                continue\n",
    "            barcodesd[prom_lib_id][bcd] = [promname]"
   ]
  },
  {
   "cell_type": "code",
   "execution_count": null,
   "metadata": {},
   "outputs": [],
   "source": [
    "# a little function that gets the promoter class and library from its name\n",
    "def prom_class_and_lib(prom_name) :\n",
    "    prom_id = prom_name.split('Promoter')[1]\n",
    "    prom_class = prom_id[0]\n",
    "    prom_lib = prom_id[1:]\n",
    "    return prom_class,prom_lib"
   ]
  },
  {
   "cell_type": "code",
   "execution_count": null,
   "metadata": {},
   "outputs": [],
   "source": [
    "# generate library file names\n",
    "def bcd_lib_assignment(rep,prom_bcd_d) :\n",
    "    mc_datadir = '/mnt/ant-login/mcorrales/HPIP/iPCR/HPIP_iPCR_%s/Data/Intensities/BaseCalls'%(rep)\n",
    "    libs = [i for i in range(1,13)]\n",
    "    prom_bcd_counts = np.zeros((12,12,8),dtype=np.int32)\n",
    "    prom_class_idx = {'A':0,'B':1,'C':2,'D':3,\n",
    "                  'E':4,'F':5,'G':6,'H':7}\n",
    "    prom_lib_idx = {lib : lib-1 for lib in libs}\n",
    "    for lib in libs :\n",
    "        mbt.log_message(rep,'Parsing library %d'%lib)\n",
    "        iPCR_fname = '%s/iPCR%d_S%d_R1_001.fastq.gz'%(mc_datadir,lib,lib-1)\n",
    "        # skip library 1, basically\n",
    "        if not os.path.exists(iPCR_fname) : continue\n",
    "        # open file\n",
    "        with gzip.open(iPCR_fname) as f :\n",
    "            lineno = 0\n",
    "            for line in f :\n",
    "                lineno+=1\n",
    "                # get only the sequence of the read\n",
    "                if lineno%4 != 2 :\n",
    "                    continue\n",
    "                # get barcode\n",
    "                bcd = line[:20]\n",
    "                # for every barcode, examine all the possibilities:\n",
    "                # it can be in any of the 12 libraries\n",
    "                for lib_try in libs :\n",
    "                    if prom_bcd_d[lib_try].has_key(bcd) :\n",
    "                        # the barcode exists in the dictionary: fetch the list\n",
    "                        # of candidate promoters\n",
    "                        prom_list = prom_bcd_d[lib_try][bcd]\n",
    "                        for prom in prom_list :\n",
    "                            prom_class,prom_lib = prom_class_and_lib(prom)\n",
    "                            prom_bcd_counts[\n",
    "                                lib-1,\n",
    "                                prom_lib_idx[int(prom_lib)],\n",
    "                                prom_class_idx[prom_class]\n",
    "                            ] += 1\n",
    "    return prom_bcd_counts"
   ]
  },
  {
   "cell_type": "code",
   "execution_count": null,
   "metadata": {},
   "outputs": [],
   "source": [
    "bcd_lib = {}\n",
    "reps = ['rep1','rep2']\n",
    "for rep in reps :\n",
    "    bcd_lib[rep] = bcd_lib_assignment(rep,barcodesd)"
   ]
  },
  {
   "cell_type": "code",
   "execution_count": null,
   "metadata": {},
   "outputs": [],
   "source": [
    "reps = ['rep1','rep2']\n",
    "counts_mat = {}\n",
    "for rep in reps :\n",
    "    counts_mat[rep] = mbt.row_normalize_matrix(bcd_lib[rep].sum(axis=2).astype(float))"
   ]
  },
  {
   "cell_type": "code",
   "execution_count": null,
   "metadata": {},
   "outputs": [],
   "source": [
    "for rep in reps :\n",
    "    fig,ax = plt.subplots(1,1,figsize=(8,8))\n",
    "    cax = ax.matshow(counts_mat[rep],cmap=plt.cm.Greens)\n",
    "    cbar = plt.colorbar(cax)\n",
    "    plt.xticks(range(12),[str(i+1) for i in range(12)])\n",
    "    plt.yticks(range(12),[str(i+1) for i in range(12)])\n",
    "    plt.xlabel('Barcode library assignment',fontsize=32)\n",
    "    ax.xaxis.set_label_position('top')\n",
    "    plt.ylabel('Library origin',fontsize=32)\n",
    "    cbar.set_label('Frequency')\n",
    "    plt.show()"
   ]
  },
  {
   "cell_type": "markdown",
   "metadata": {},
   "source": [
    "These graphs show that there are a substantial amount of things to fix in the data set. Let's have a look at the percentage of collisions already in the promoter-barcode association library."
   ]
  },
  {
   "cell_type": "code",
   "execution_count": null,
   "metadata": {},
   "outputs": [],
   "source": [
    "for lib_id,d in barcodesd.iteritems() :\n",
    "    n = 0\n",
    "    for bcd,l in d.iteritems() :\n",
    "        if len(l)>1 : n+=1\n",
    "    print \"Library %s: %d barcodes, %.2f%% collisions\"%(lib_id,len(d),n*100/float(len(d)))"
   ]
  },
  {
   "cell_type": "markdown",
   "metadata": {},
   "source": [
    "The next step will be to look at the statistics of barcode coll"
   ]
  }
 ],
 "metadata": {
  "kernelspec": {
   "display_name": "Python 2",
   "language": "python",
   "name": "python2"
  },
  "language_info": {
   "codemirror_mode": {
    "name": "ipython",
    "version": 2
   },
   "file_extension": ".py",
   "mimetype": "text/x-python",
   "name": "python",
   "nbconvert_exporter": "python",
   "pygments_lexer": "ipython2"
  }
 },
 "nbformat": 4,
 "nbformat_minor": 2
}
