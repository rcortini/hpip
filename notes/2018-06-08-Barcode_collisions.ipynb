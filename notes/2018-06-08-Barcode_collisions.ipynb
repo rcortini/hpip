{
 "cells": [
  {
   "cell_type": "code",
   "execution_count": null,
   "metadata": {},
   "outputs": [],
   "source": [
    "%matplotlib inline\n",
    "%load_ext autoreload\n",
    "%autoreload 2"
   ]
  },
  {
   "cell_type": "code",
   "execution_count": null,
   "metadata": {},
   "outputs": [],
   "source": [
    "from __future__ import division\n",
    "import numpy as np\n",
    "import matplotlib.pyplot as plt\n",
    "import mybiotools as mbt\n",
    "from scipy.stats import gaussian_kde\n",
    "import os, sys"
   ]
  },
  {
   "cell_type": "markdown",
   "metadata": {},
   "source": [
    "# 2018-06-08 Barcode collisions\n",
    "We need to find out whether there are any ways to get rid of the many, many collisions between the barcodes in a given library. Therefore, I'll set up some code to study whether in the barcodes that are found to be colliding, there are clear patterns emerging. For example, if one barcode is found 95% of the times to be associated to a given promoter, and 5% of the times to the other, then we can consider that the first one is the clear winner. If not, then we're in trouble."
   ]
  },
  {
   "cell_type": "code",
   "execution_count": null,
   "metadata": {},
   "outputs": [],
   "source": [
    "# build file names\n",
    "datadir = '/mnt/ant-login/mcorrales/HPIP/libraries/Starcoded_proms'\n",
    "lib = 5\n",
    "prom_classes = ['A','B','C','D','E','F','G','H']\n",
    "\n",
    "# parse files\n",
    "prom_bcd_dict = {}\n",
    "bcd_lib_counts = {}\n",
    "for prom_class in prom_classes :\n",
    "    prom_name = 'Promoter%s%d'%(prom_class,lib)\n",
    "    fname = '%s/%s-starcoded.txt'%(datadir,prom_name)\n",
    "    mbt.log_message('create_dict',\"Processing %s\"%(fname))\n",
    "    counts = 0\n",
    "    with open(fname) as f:\n",
    "        for line in f:\n",
    "            bcd,bcd_counts,_ = line.split()\n",
    "            bcd_counts = int(bcd_counts)\n",
    "            counts += bcd_counts\n",
    "            bcd_info = (prom_class,bcd_counts)\n",
    "            if bcd in prom_bcd_dict :\n",
    "                prom_bcd_dict[bcd].append(bcd_info)\n",
    "            else :\n",
    "                prom_bcd_dict[bcd] = [bcd_info]\n",
    "    bcd_lib_counts[prom_class] = counts"
   ]
  },
  {
   "cell_type": "code",
   "execution_count": null,
   "metadata": {},
   "outputs": [],
   "source": [
    "nbcds = 100\n",
    "n = 0\n",
    "max_rel_ps = []\n",
    "for bcd,prom_list in prom_bcd_dict.iteritems() :\n",
    "    n += 1\n",
    "    if len(prom_list) > 1 :\n",
    "        ps = []\n",
    "        for prom_class,bcd_counts in prom_list :\n",
    "            ps.append(bcd_counts/bcd_lib_counts[prom_class])\n",
    "        tot_p = sum(ps)\n",
    "        rel_ps = [p/tot_p for p in ps]\n",
    "        max_rel_ps.append(max(rel_ps))\n",
    "        for i in range(len(ps)):\n",
    "            prom_class,bcd_counts = prom_list[i]\n",
    "            \n",
    "    # for some visual output\n",
    "    if n < nbcds :\n",
    "        print bcd\n",
    "        for i in range(len(ps)) :\n",
    "            print \"\\tclass: %s, percentage: %.2e, relative p: %.2f\"%(prom_class,ps[i],rel_ps[i])\n",
    "max_rel_ps = np.array(max_rel_ps)"
   ]
  },
  {
   "cell_type": "code",
   "execution_count": null,
   "metadata": {},
   "outputs": [],
   "source": [
    "k_max_rel_ps = gaussian_kde(max_rel_ps)"
   ]
  },
  {
   "cell_type": "code",
   "execution_count": null,
   "metadata": {},
   "outputs": [],
   "source": [
    "x = np.arange(0.,1.01,0.01)\n",
    "plt.plot(x,k_max_rel_ps(x))\n",
    "plt.xlabel('Maximum frequency')\n",
    "plt.ylabel('Distribution')\n",
    "plt.show()"
   ]
  },
  {
   "cell_type": "markdown",
   "metadata": {},
   "source": [
    "The results of this analysis show that most of the barcodes have a relatively high maximum value of the relative frequency. However, there are more than 40% that have a value of the maximum probability which is less than 90%. So for each of these barcodes we should actually store the value of the probability, and we should probabilistically assign each barcode to a promoter. This way we won't throw away any of the reads in the mapping experiment. The question is how to store this huge amount of information.\n",
    "\n",
    "## A new dictionary\n",
    "Here I want to write the code that will create a new dictionary that we will access this way: we'll do\n",
    "```python\n",
    "# print information on a barcode\n",
    "proms = prom_bcd_dict[bcd]\n",
    "for prom_lib,prom_candidates in proms :\n",
    "    print \"Candidates from lib %d\"%prom_lib\n",
    "    for prom_candidate,probability in prom_candidates :\n",
    "        print \"\\tCandidate %s has probability %.2f\"%(prom_candidate,probability)\n",
    "```\n",
    "Now I'll draft the code that will create this data structure."
   ]
  },
  {
   "cell_type": "code",
   "execution_count": null,
   "metadata": {},
   "outputs": [],
   "source": [
    "# STEP 1: parse all the files and collect all the barcodes\n",
    "datadir = '/mnt/ant-login/mcorrales/HPIP/libraries/Starcoded_proms'\n",
    "libs = range(1,13)\n",
    "prom_classes = ['A','B','C','D','E','F','G','H']\n",
    "prom_bcd_dict = {}\n",
    "bcd_lib_counts = {}\n",
    "for lib in libs :\n",
    "    d = {}\n",
    "    for prom_class in prom_classes :\n",
    "        prom_name = 'Promoter%s%d'%(prom_class,lib)\n",
    "        fname = '%s/%s-starcoded.txt'%(datadir,prom_name)\n",
    "        mbt.log_message('lib %d'%lib,\"Processing %s\"%(fname))\n",
    "        counts = 0\n",
    "        if not os.path.exists(fname) :\n",
    "            continue\n",
    "        with open(fname) as f:\n",
    "            for lineno,line in enumerate(f):\n",
    "                bcd,bcd_counts,_ = line.split()\n",
    "                bcd_counts = int(bcd_counts)\n",
    "                counts += bcd_counts\n",
    "                bcd_info = (prom_class,bcd_counts)\n",
    "                if bcd in d :\n",
    "                    d[bcd].append(bcd_info)\n",
    "                else :\n",
    "                    d[bcd] = [bcd_info]\n",
    "                # TODO: remove this for the full monty\n",
    "                # if lineno > 10000 : break\n",
    "        bcd_lib_counts['%s%d'%(prom_class,lib)] = counts\n",
    "    prom_bcd_dict[lib] = d"
   ]
  },
  {
   "cell_type": "code",
   "execution_count": null,
   "metadata": {},
   "outputs": [],
   "source": [
    "def calculate_rel_ps(prom_list, lib, bcd_lib_counts) :\n",
    "    # compute the relative probabilities within the library\n",
    "    ps = []\n",
    "    for prom_class,bcd_count in prom_list :\n",
    "        ps.append(bcd_count/bcd_lib_counts['%s%d'%(prom_class,lib)])\n",
    "    tot_p = sum(ps)\n",
    "    rel_ps = [p/tot_p for p in ps]\n",
    "    return rel_ps"
   ]
  },
  {
   "cell_type": "code",
   "execution_count": null,
   "metadata": {},
   "outputs": [],
   "source": [
    "def string_lib(prom_list,prom_lib,rel_ps) :\n",
    "    string = ''\n",
    "    for i in range(len(prom_list)) :\n",
    "        prom_class,_ = prom_list[i]\n",
    "        p = rel_ps[i]\n",
    "        if i>0 : string += ','\n",
    "        string += '%s%d:%.3f'%(prom_class,prom_lib,p)\n",
    "    return string"
   ]
  },
  {
   "cell_type": "code",
   "execution_count": null,
   "metadata": {},
   "outputs": [],
   "source": [
    "%%time\n",
    "# STEP 2: compute the relative probabilities and output a file\n",
    "prom_bcd_fname = 'test3.txt'\n",
    "with open(prom_bcd_fname,'w') as f :\n",
    "    # iterate through all the libraries\n",
    "    for lib,d in prom_bcd_dict.iteritems() :\n",
    "        # n = 0\n",
    "        for bcd,prom_list in d.iteritems() :\n",
    "            rel_ps = calculate_rel_ps(prom_list,lib,bcd_lib_counts)\n",
    "            line = '%s\\t'%(bcd)\n",
    "            line += string_lib(prom_list,lib,rel_ps)\n",
    "            for lib_try in libs[lib+1:] :\n",
    "                if bcd in prom_bcd_dict[lib_try] :\n",
    "                    prom_list_lib_try = prom_bcd_dict[lib_try][bcd]\n",
    "                    rel_ps = calculate_rel_ps(prom_list_lib_try,lib_try,bcd_lib_counts)\n",
    "                    line += ';'\n",
    "                    line += string_lib(prom_list_lib_try,lib_try,rel_ps)\n",
    "                    # important: we now need to remove the barcode from the lib_try library,\n",
    "                    # because otherwise we will find it again when we will parse that library,\n",
    "                    # resulting in multiple entries in the output file\n",
    "                    del prom_bcd_dict[lib_try][bcd]\n",
    "            line += '\\n'\n",
    "            f.write(line)\n",
    "            # n += 1\n",
    "            # if n > 1000 : break"
   ]
  },
  {
   "cell_type": "code",
   "execution_count": null,
   "metadata": {},
   "outputs": [],
   "source": [
    "# STEP 3 : create a parser for the output file\n",
    "def parse_prom_bcd_dict(prom_bcd_fname) :\n",
    "    d = {}\n",
    "    with open(prom_bcd_fname,'r') as f :\n",
    "        for lineno,line in enumerate(f) :\n",
    "            bcd,all_candidates = line.strip().split('\\t')\n",
    "            d_bcd = {}\n",
    "            for candidates in all_candidates.split(';') :\n",
    "                for candidate in candidates.split(',') :\n",
    "                    prom_name,p = candidate.split(':')\n",
    "                    d_bcd[prom_name] = p\n",
    "            d[bcd] = d_bcd\n",
    "            if lineno > 1000 : return d\n",
    "pbd = parse_prom_bcd_dict(prom_bcd_fname)"
   ]
  },
  {
   "cell_type": "code",
   "execution_count": null,
   "metadata": {},
   "outputs": [],
   "source": [
    "sys.getsizeof(pbd)"
   ]
  }
 ],
 "metadata": {
  "kernelspec": {
   "display_name": "Python 2",
   "language": "python",
   "name": "python2"
  },
  "language_info": {
   "codemirror_mode": {
    "name": "ipython",
    "version": 2
   },
   "file_extension": ".py",
   "mimetype": "text/x-python",
   "name": "python",
   "nbconvert_exporter": "python",
   "pygments_lexer": "ipython2"
  }
 },
 "nbformat": 4,
 "nbformat_minor": 2
}
