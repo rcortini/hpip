{
 "cells": [
  {
   "cell_type": "code",
   "execution_count": null,
   "metadata": {},
   "outputs": [],
   "source": [
    "%matplotlib inline"
   ]
  },
  {
   "cell_type": "code",
   "execution_count": null,
   "metadata": {},
   "outputs": [],
   "source": [
    "import numpy as np\n",
    "import matplotlib.pyplot as plt\n",
    "import sys, os"
   ]
  },
  {
   "cell_type": "code",
   "execution_count": null,
   "metadata": {},
   "outputs": [],
   "source": [
    "hpip_root = '%s/work/CRG/projects/hpip'%(os.getenv('HOME'))\n",
    "pbd_counts_fname = '%s/data/pbd/pbd_counts.tsv'%(hpip_root)\n",
    "pbd_collisions_fname = '%s/data/pbd/pbd_collisions.tsv'%(hpip_root)"
   ]
  },
  {
   "cell_type": "code",
   "execution_count": null,
   "metadata": {},
   "outputs": [],
   "source": [
    "prom_classes = ['A', 'B', 'C', 'D', 'E', 'F', 'G', 'H']\n",
    "prom_libs = range(1, 13)\n",
    "counts_raw = []\n",
    "with open(pbd_counts_fname, 'r') as f :\n",
    "    header = f.readline()\n",
    "    for line in f :\n",
    "        cs = line[1:].strip('\\t\\n').split('\\t')\n",
    "        cs_int = [int(c) for c in cs]\n",
    "        counts_raw.append(cs_int)\n",
    "counts = np.array(counts_raw)"
   ]
  },
  {
   "cell_type": "code",
   "execution_count": null,
   "metadata": {},
   "outputs": [],
   "source": [
    "plt.matshow(np.log(counts+1))\n",
    "plt.xticks(range(12), prom_libs)\n",
    "plt.yticks(range(8), prom_classes)\n",
    "plt.show()"
   ]
  },
  {
   "cell_type": "code",
   "execution_count": null,
   "metadata": {},
   "outputs": [],
   "source": [
    "prom_names = []\n",
    "for prom_class in prom_classes :\n",
    "    for prom_lib in prom_libs :\n",
    "        prom_names.append('%s%d'%(prom_class, prom_lib))\n",
    "collisions_raw = []\n",
    "with open(pbd_collisions_fname, 'r') as f :\n",
    "    # skip header\n",
    "    f.readline()\n",
    "    for line in f :\n",
    "        cs = line.strip('\\t\\n').split()[1:]\n",
    "        collisions_raw.append([int(c) for c in cs])\n",
    "collisions = np.array(collisions_raw)"
   ]
  },
  {
   "cell_type": "code",
   "execution_count": null,
   "metadata": {},
   "outputs": [],
   "source": [
    "fig, ax = plt.subplots(1, 1, figsize=(10,10))\n",
    "ax.set_xticks(range(96))\n",
    "ax.set_xticklabels(prom_names)\n",
    "ax.matshow(np.log(1+collisions))"
   ]
  }
 ],
 "metadata": {
  "kernelspec": {
   "display_name": "Python 2",
   "language": "python",
   "name": "python2"
  },
  "language_info": {
   "codemirror_mode": {
    "name": "ipython",
    "version": 2
   },
   "file_extension": ".py",
   "mimetype": "text/x-python",
   "name": "python",
   "nbconvert_exporter": "python",
   "pygments_lexer": "ipython2"
  }
 },
 "nbformat": 4,
 "nbformat_minor": 2
}
