{
 "cells": [
  {
   "cell_type": "code",
   "execution_count": null,
   "metadata": {},
   "outputs": [],
   "source": [
    "%matplotlib inline\n",
    "%load_ext autoreload\n",
    "%autoreload 2"
   ]
  },
  {
   "cell_type": "code",
   "execution_count": null,
   "metadata": {},
   "outputs": [],
   "source": [
    "import numpy as np\n",
    "import matplotlib.pyplot as plt\n",
    "import os\n",
    "import hpiptools as ht\n",
    "import mybiotools as mbt"
   ]
  },
  {
   "cell_type": "markdown",
   "metadata": {},
   "source": [
    "# 2018-05-17 Expression position\n",
    "Now let's go to more juicy business: how does the expression of the promoter vary as a function of the position on the chromosome?"
   ]
  },
  {
   "cell_type": "code",
   "execution_count": null,
   "metadata": {},
   "outputs": [],
   "source": [
    "hpip_root_dir = '%s/work/CRG/projects/hpip'%(os.getenv('HOME'))\n",
    "production_dir = '%s/production'%(hpip_root_dir)\n",
    "results_fname = '%s/HPIP_results.npy'%(production_dir)\n",
    "results = np.load(results_fname)"
   ]
  },
  {
   "cell_type": "code",
   "execution_count": null,
   "metadata": {},
   "outputs": [],
   "source": [
    "def promoter_id(insertion) :\n",
    "    return insertion['promoter']/ht.nclasses+1,insertion['promoter']%ht.nclasses"
   ]
  },
  {
   "cell_type": "code",
   "execution_count": null,
   "metadata": {},
   "outputs": [],
   "source": [
    "chromosome = '2R'\n",
    "start = 3000000\n",
    "end = 6000000\n",
    "insertions_loc = np.array([i for i in results if\\\n",
    "                          i['chr']==chromosome and\n",
    "                          (i['coord']>start and i['coord']<end)])\n",
    "fig,ax = plt.subplots(1,1,figsize=(10,3))\n",
    "mbt.ax_only_y(ax,show_xaxis=True)\n",
    "mbt.line_plot(ax,insertions_loc['coord'],insertions_loc['expression'])\n",
    "plt.show()"
   ]
  },
  {
   "cell_type": "code",
   "execution_count": null,
   "metadata": {},
   "outputs": [],
   "source": [
    "results"
   ]
  }
 ],
 "metadata": {
  "kernelspec": {
   "display_name": "Python 2",
   "language": "python",
   "name": "python2"
  },
  "language_info": {
   "codemirror_mode": {
    "name": "ipython",
    "version": 2
   },
   "file_extension": ".py",
   "mimetype": "text/x-python",
   "name": "python",
   "nbconvert_exporter": "python",
   "pygments_lexer": "ipython2"
  }
 },
 "nbformat": 4,
 "nbformat_minor": 2
}
