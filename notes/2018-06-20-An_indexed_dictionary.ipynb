{
 "cells": [
  {
   "cell_type": "code",
   "execution_count": null,
   "metadata": {},
   "outputs": [],
   "source": [
    "%matplotlib inline\n",
    "%load_ext autoreload\n",
    "%autoreload 2"
   ]
  },
  {
   "cell_type": "code",
   "execution_count": null,
   "metadata": {},
   "outputs": [],
   "source": [
    "import numpy as np\n",
    "import matplotlib.pyplot as plt\n",
    "import os, sys, struct"
   ]
  },
  {
   "cell_type": "markdown",
   "metadata": {},
   "source": [
    "# 2018-06-20 An indexed dictionary\n",
    "For the purpose of assigning a promoter to a barcode, it is always necessary to do some trial and error, and to consult many times the promoter-barcode dictionary. For this reason, it is useful to have a handy way of accessing the dictionary without loading all the dictionary into the memory. Therefore, to do that, I need an indexing method.\n",
    "\n",
    "## Step 1. How to read and write a file index in Python\n",
    "\n",
    "Suppose that I have file and I want to write to a separate file where are all the starts of the lines in the file. I will want to use the `seek` method to jump then to that particular position in the file. Let's have a look."
   ]
  },
  {
   "cell_type": "code",
   "execution_count": null,
   "metadata": {},
   "outputs": [],
   "source": [
    "def make_file_index(fname, idx_fname) :\n",
    "    \n",
    "    # open the original file normally, and the index file as a\n",
    "    # binary file\n",
    "    with open(fname,'r') as f_in, open(idx_fname,'wb') as f_out :\n",
    "\n",
    "        # doing a normal iteration over the file lines\n",
    "        # as in 'for line in f_in' will not work combined with\n",
    "        # f_in.tell(). Therefore, we need to use this other way\n",
    "        # of iterating over the file.\n",
    "        # From https://stackoverflow.com/a/14145118/2312821\n",
    "        for line in iter(f_in.readline, '') :\n",
    "            f_out.write('%s'%(struct.pack(\"Q\", f_in.tell())))"
   ]
  },
  {
   "cell_type": "code",
   "execution_count": null,
   "metadata": {},
   "outputs": [],
   "source": [
    "# now let's open the index, and read the n-th line of the original file\n",
    "def file_read_nth_line(n, fname, idx_fname) :\n",
    "    # Try to read the n-th index from the idx list. With an \n",
    "    # 'IndexError' it means that the original file does not have\n",
    "    # that number of lines\n",
    "    with open(idx_fname, 'rb') as f :\n",
    "        f.seek(n*8, os.SEEK_SET)\n",
    "        i_binary = f.read(8)\n",
    "        \n",
    "        # if 'i_binary' is an empty string, it means we reached\n",
    "        # the end of the file: that is, the original file did not\n",
    "        # have that number of lines\n",
    "        if i_binary == '' :\n",
    "            return None\n",
    "        \n",
    "        # if not, then we can unpack the string and convert it to a\n",
    "        # python integer, which will allow us to read from the\n",
    "        # correct line in the original file (i)\n",
    "        i = struct.unpack('Q', i_binary)[0]\n",
    "    \n",
    "    # read original file and jump to the correct line\n",
    "    with open(fname, 'r') as f :\n",
    "        f.seek(i, os.SEEK_SET)\n",
    "        return f.readline()"
   ]
  },
  {
   "cell_type": "code",
   "execution_count": null,
   "metadata": {},
   "outputs": [],
   "source": [
    "# example: a BCL2FASTQ sample sheet\n",
    "example_file = '/home/rcortini/work/CRG/projects/hpip/data/raw/iPCR/HPIP_iPCR_rep1/SampleSheet.csv'\n",
    "idx_file = 'idx.txt'\n",
    "\n",
    "# make the index\n",
    "make_file_index(example_file, idx_file)\n",
    "\n",
    "# now go to the n-th line of the original file\n",
    "n = 44\n",
    "print file_read_nth_line(n, example_file, idx_file)"
   ]
  },
  {
   "cell_type": "markdown",
   "metadata": {},
   "source": [
    "Okay, now we have a few base functions that will allow to create and read the file index.\n",
    "\n",
    "## Step 2. Write a sorted barcode dictionary.\n",
    "We need now to go back at when we read the barcodes from all the promoter starcoded files. The smarter thing to do then would be to write the index of that file while writing the file itself.\n",
    "\n",
    "Turns out that I don't need to write a single line of code to accomplish this. Using the `sort` GNU coreutil, I can directly sort the barcode dictionary with no option. In approximately nine minutes it is done on my computer.\n",
    "\n",
    "## Step 3. Seek a barcode from the indexed, sorted dictionary\n",
    "\n",
    "Now I have that the promoter-barcode dictionary is sorted, and I have the index for it, I can write a function that goes and looks for the corresponding barcode in the dictionary with log-efficiency."
   ]
  },
  {
   "cell_type": "code",
   "execution_count": null,
   "metadata": {},
   "outputs": [],
   "source": [
    "hpip_root = '%s/work/CRG/projects/hpip'%(os.getenv('HOME'))\n",
    "pbd_datadir = '%s/data/pbd'%(hpip_root)\n",
    "pbd_fname = '%s/pbd.txt'%(pbd_datadir)\n",
    "pbd_idx = '%s.idx'%(pbd_fname)"
   ]
  },
  {
   "cell_type": "code",
   "execution_count": null,
   "metadata": {},
   "outputs": [],
   "source": [
    "def findbcd(bcd, pbd_fname, pbd_idx) :\n",
    "    \n",
    "    # open the pbd index and read the value at the last position,\n",
    "    # which by convention corresponds to the number of lines in the\n",
    "    # original file\n",
    "    with open(pbd_idx, 'rb') as f :\n",
    "        f.seek(-8, os.SEEK_END)\n",
    "        N = struct.unpack('Q', f.read(8))[0]\n",
    "    \n",
    "    # start the iterative search\n",
    "    range_hi = N-1\n",
    "    range_lo = 0\n",
    "    while range_lo < range_hi-1 :\n",
    "        mid = (range_hi+range_lo)//2\n",
    "        line = file_read_nth_line(mid, pbd_fname, pbd_idx)\n",
    "        this_bcd = line[:20]\n",
    "        if this_bcd < bcd :\n",
    "            range_lo = mid\n",
    "        elif this_bcd > bcd :\n",
    "            range_hi = mid\n",
    "        else :\n",
    "            return line\n",
    "    \n",
    "    # if we are here, then the barcode was not found\n",
    "    return None"
   ]
  },
  {
   "cell_type": "code",
   "execution_count": null,
   "metadata": {},
   "outputs": [],
   "source": [
    "bcd = 'TTTTTTTTTTTTTTTTTTGG'\n",
    "print findbcd(bcd, pbd_fname, pbd_idx)"
   ]
  },
  {
   "cell_type": "markdown",
   "metadata": {},
   "source": [
    "Okay, this works very well and is quite fast.\n",
    "\n",
    "## Bonus: object-oriented approach\n",
    "\n",
    "This is all well and good, but the functions as they are written now are kind of inefficient because they continuously open and close the files for access. A better approach is to open them once and for all and then close the files when they are not used any more."
   ]
  },
  {
   "cell_type": "code",
   "execution_count": null,
   "metadata": {},
   "outputs": [],
   "source": [
    "class PBD :\n",
    "    def __init__(self, hpip_root) :\n",
    "        # set input file names\n",
    "        pbd_fname = '%s/data/pbd/pbd.txt'%(hpip_root)\n",
    "        pbd_idx = '%s.idx'%(pbd_fname)\n",
    "        \n",
    "        # open the index and the pdb file\n",
    "        self.pbd = open(pbd_fname, 'r')\n",
    "        self.idx = open(pbd_idx, 'rb')\n",
    "        \n",
    "        # get the number of lines in the pbd by looking\n",
    "        # at the last value stored in the index\n",
    "        self.idx.seek(-8, os.SEEK_END)\n",
    "        self.N = struct.unpack('Q', self.idx.read(8))[0]\n",
    "\n",
    "    def read_nth_line(self, n) :\n",
    "        # seek the index at position 'n*8', because the information\n",
    "        # is stored in chunks of 8 bytes of size\n",
    "        self.idx.seek(n*8, os.SEEK_SET)\n",
    "        i_binary = self.idx.read(8)\n",
    "\n",
    "        # if 'i_binary' is an empty string, it means we reached\n",
    "        # the end of the file: that is, the original file did not\n",
    "        # have that number of lines\n",
    "        if i_binary == '' :\n",
    "            return None\n",
    "\n",
    "        # if not, then we can unpack the string and convert it to a\n",
    "        # python integer, which will allow us to read from the\n",
    "        # correct line in the original file (i)\n",
    "        i = struct.unpack('Q', i_binary)[0]\n",
    "\n",
    "        # read original file and jump to the correct line\n",
    "        self.pbd.seek(i, os.SEEK_SET)\n",
    "        return self.pbd.readline()\n",
    "    \n",
    "    def findbcd(self, bcd) :\n",
    "        # open the pbd index and read the value at the last position,\n",
    "        # which by convention corresponds to the number of lines in the\n",
    "        # original file\n",
    "\n",
    "        # start the iterative search\n",
    "        range_hi = self.N-1\n",
    "        range_lo = 0\n",
    "        while range_lo < range_hi-1 :\n",
    "            mid = (range_hi+range_lo)//2\n",
    "            line = self.read_nth_line(mid)\n",
    "            this_bcd = line[:20]\n",
    "            if this_bcd < bcd :\n",
    "                range_lo = mid\n",
    "            elif this_bcd > bcd :\n",
    "                range_hi = mid\n",
    "            else :\n",
    "                return line\n",
    "\n",
    "        # if we are here, then the barcode was not found\n",
    "        return None\n",
    "\n",
    "    def __del__(self) :\n",
    "        self.pbd.close()\n",
    "        self.idx.close()"
   ]
  },
  {
   "cell_type": "code",
   "execution_count": null,
   "metadata": {},
   "outputs": [],
   "source": [
    "pbd = PBD(hpip_root)\n",
    "bcd = 'TTTTTTTTTTTTTTTTTTGG'\n",
    "print pbd.findbcd(bcd)"
   ]
  },
  {
   "cell_type": "markdown",
   "metadata": {},
   "source": [
    "This is much faster than its other counterpart."
   ]
  }
 ],
 "metadata": {
  "kernelspec": {
   "display_name": "Python 2",
   "language": "python",
   "name": "python2"
  },
  "language_info": {
   "codemirror_mode": {
    "name": "ipython",
    "version": 2
   },
   "file_extension": ".py",
   "mimetype": "text/x-python",
   "name": "python",
   "nbconvert_exporter": "python",
   "pygments_lexer": "ipython2"
  }
 },
 "nbformat": 4,
 "nbformat_minor": 2
}
