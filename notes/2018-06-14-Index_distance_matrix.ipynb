{
 "cells": [
  {
   "cell_type": "code",
   "execution_count": null,
   "metadata": {},
   "outputs": [],
   "source": [
    "%matplotlib inline\n",
    "%load_ext autoreload\n",
    "%autoreload 2"
   ]
  },
  {
   "cell_type": "code",
   "execution_count": null,
   "metadata": {},
   "outputs": [],
   "source": [
    "import numpy as np\n",
    "import matplotlib.pyplot as plt\n",
    "import seeq\n",
    "import os, sys"
   ]
  },
  {
   "cell_type": "markdown",
   "metadata": {},
   "source": [
    "# 2018-06-14 Index distance matrix\n",
    "I'm struggling with the problem of how to assign a read to a library based on its index. I'm wondering one thing: are the indices chosen for the sequencing sufficiently separated from one another?"
   ]
  },
  {
   "cell_type": "code",
   "execution_count": null,
   "metadata": {},
   "outputs": [],
   "source": [
    "hpip_root = '%s/work/CRG/projects/hpip'%(os.getenv('HOME'))\n",
    "sample_sheet = '%s/data/raw/iPCR/HPIP_iPCR_rep1/SampleSheet.csv'%(hpip_root)\n",
    "idx = np.zeros(12,dtype='S6')\n",
    "with open(sample_sheet, 'r') as f:\n",
    "    for lineno, line in enumerate(f) :\n",
    "        if lineno > 1 and lineno < 13 :\n",
    "            _,i,_,this_idx = line.strip('\\n').split(',')\n",
    "            print i, this_idx\n",
    "            idx[int(i)-1] = this_idx"
   ]
  },
  {
   "cell_type": "code",
   "execution_count": null,
   "metadata": {},
   "outputs": [],
   "source": [
    "coll_matrix = np.zeros((12,12),dtype=bool)\n",
    "for i in range(12) :\n",
    "    idx_i = idx[i]\n",
    "    if idx_i == '' : continue\n",
    "    so = seeq.compile(idx_i,2)\n",
    "    for j in range(12) :\n",
    "        idx_j = idx[j]\n",
    "        if idx_j == '' : continue\n",
    "        if so.match(idx_j) is not None :\n",
    "            coll_matrix[i,j] = True\n",
    "            # print 'Collision: (%d, %d) %s %s'%(i+2,j+2,idx_i,idx_j)"
   ]
  },
  {
   "cell_type": "code",
   "execution_count": null,
   "metadata": {},
   "outputs": [],
   "source": [
    "plt.matshow(coll_matrix)\n",
    "plt.xticks(range(12),[str(i+1) for i in range(12)])\n",
    "plt.yticks(range(12),[str(i+1) for i in range(12)])\n",
    "plt.show()"
   ]
  },
  {
   "cell_type": "code",
   "execution_count": null,
   "metadata": {},
   "outputs": [],
   "source": [
    "so = seeq.compile(idx[1],2)\n",
    "print idx[1], idx[10], so.match(idx[10]).matches()"
   ]
  }
 ],
 "metadata": {
  "kernelspec": {
   "display_name": "Python 2",
   "language": "python",
   "name": "python2"
  },
  "language_info": {
   "codemirror_mode": {
    "name": "ipython",
    "version": 2
   },
   "file_extension": ".py",
   "mimetype": "text/x-python",
   "name": "python",
   "nbconvert_exporter": "python",
   "pygments_lexer": "ipython2"
  }
 },
 "nbformat": 4,
 "nbformat_minor": 2
}
